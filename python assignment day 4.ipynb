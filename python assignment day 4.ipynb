{
 "cells": [
  {
   "cell_type": "code",
   "execution_count": 1,
   "metadata": {},
   "outputs": [
    {
     "name": "stdout",
     "output_type": "stream",
     "text": [
      "The original string is : the nature fills the world, nature is life\n",
      "The substring to find : nature\n",
      "The start indices of the substrings are : [4, 28]\n"
     ]
    }
   ],
   "source": [
    "test_str = \"the nature fills the world, nature is life\"\n",
    "test_sub = \"nature\"  \n",
    "print(\"The original string is : \" + test_str) \n",
    "print(\"The substring to find : \" + test_sub) \n",
    "res = [i for i in range(len(test_str)) if test_str.startswith(test_sub, i)]  \n",
    "print(\"The start indices of the substrings are : \" + str(res)) "
   ]
  },
  {
   "cell_type": "code",
   "execution_count": 4,
   "metadata": {},
   "outputs": [
    {
     "name": "stdout",
     "output_type": "stream",
     "text": [
      "True\n",
      "False\n"
     ]
    }
   ],
   "source": [
    "string = 'NATURE'\n",
    "print(string.isupper()) \n",
    "  \n",
    "string = 'NAture'\n",
    "print(string.isupper()) "
   ]
  },
  {
   "cell_type": "code",
   "execution_count": 5,
   "metadata": {},
   "outputs": [
    {
     "name": "stdout",
     "output_type": "stream",
     "text": [
      "False\n",
      "True\n"
     ]
    }
   ],
   "source": [
    "string = 'NATURE'\n",
    "print(string.islower()) \n",
    "  \n",
    "string = 'nature'\n",
    "print(string.islower()) "
   ]
  },
  {
   "cell_type": "code",
   "execution_count": null,
   "metadata": {},
   "outputs": [],
   "source": []
  }
 ],
 "metadata": {
  "kernelspec": {
   "display_name": "Python 3",
   "language": "python",
   "name": "python3"
  },
  "language_info": {
   "codemirror_mode": {
    "name": "ipython",
    "version": 3
   },
   "file_extension": ".py",
   "mimetype": "text/x-python",
   "name": "python",
   "nbconvert_exporter": "python",
   "pygments_lexer": "ipython3",
   "version": "3.7.6"
  }
 },
 "nbformat": 4,
 "nbformat_minor": 4
}
